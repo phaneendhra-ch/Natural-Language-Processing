{
 "cells": [
  {
   "cell_type": "markdown",
   "id": "d083df72",
   "metadata": {},
   "source": [
    "# Tokenization"
   ]
  },
  {
   "cell_type": "markdown",
   "id": "c86952b8",
   "metadata": {},
   "source": [
    "### Tokenization is a process where the text is further broke down in pieces(tokens)\n",
    "### Here, tokens are the pieces of the original part."
   ]
  },
  {
   "cell_type": "code",
   "execution_count": 12,
   "id": "6ae453de",
   "metadata": {},
   "outputs": [],
   "source": [
    "import spacy\n",
    "\n",
    "# This can be downloaded in the environment using ' python -m spacy download en' \n",
    "\n",
    "# en_core_web_lg for larger version \n",
    "\n",
    "nlp = spacy.load('en_core_web_sm') # Load English Core Language of Smaller version"
   ]
  },
  {
   "cell_type": "code",
   "execution_count": 8,
   "id": "1fd6291c",
   "metadata": {},
   "outputs": [],
   "source": [
    "my_user_string =  '\"We\\'re moving to U.S. on 2nd Saturday of September\"'"
   ]
  },
  {
   "cell_type": "code",
   "execution_count": 9,
   "id": "c1eef8e1",
   "metadata": {},
   "outputs": [
    {
     "data": {
      "text/plain": [
       "'\"We\\'re moving to U.S. on 2nd Saturday of September\"'"
      ]
     },
     "execution_count": 9,
     "metadata": {},
     "output_type": "execute_result"
    }
   ],
   "source": [
    "my_user_string"
   ]
  },
  {
   "cell_type": "code",
   "execution_count": 11,
   "id": "50508520",
   "metadata": {},
   "outputs": [
    {
     "name": "stdout",
     "output_type": "stream",
     "text": [
      "\"\n",
      "We\n",
      "'re\n",
      "moving\n",
      "to\n",
      "U.S.\n",
      "on\n",
      "2nd\n",
      "Saturday\n",
      "of\n",
      "September\n",
      "\"\n"
     ]
    }
   ],
   "source": [
    "doc = nlp(my_user_string)\n",
    "\n",
    "# Detecting the tokens from the text\n",
    "for token in doc:\n",
    "    print(token.text)"
   ]
  },
  {
   "cell_type": "code",
   "execution_count": 19,
   "id": "03862a0c",
   "metadata": {},
   "outputs": [
    {
     "name": "stdout",
     "output_type": "stream",
     "text": [
      "U.S.\tGPE\n",
      "Countries, cities, states\n",
      "\n",
      "2nd Saturday of September\tDATE\n",
      "Absolute or relative dates or periods\n",
      "\n"
     ]
    }
   ],
   "source": [
    "# Fetching Entities from the labels\n",
    "for entity in doc.ents:\n",
    "    print(entity,entity.label_,sep=\"\\t\")\n",
    "    print(str(spacy.explain(entity.label_)),end=\"\\n\\n\") # Explanation for the named entities\n",
    "    "
   ]
  },
  {
   "cell_type": "code",
   "execution_count": 23,
   "id": "4534866b",
   "metadata": {},
   "outputs": [
    {
     "data": {
      "text/html": [
       "<div class=\"entities\" style=\"line-height: 2.5\">\"We're moving to \n",
       "<mark class=\"entity\" style=\"background: #feca74; padding: 0.45em 0.6em; margin: 0 0.25em; line-height: 1; border-radius: 0.35em; box-decoration-break: clone; -webkit-box-decoration-break: clone\">\n",
       "    U.S.\n",
       "    <span style=\"font-size: 0.8em; font-weight: bold; line-height: 1; border-radius: 0.35em; text-transform: uppercase; vertical-align: middle; margin-left: 0.5rem\">GPE</span>\n",
       "</mark>\n",
       " on \n",
       "<mark class=\"entity\" style=\"background: #bfe1d9; padding: 0.45em 0.6em; margin: 0 0.25em; line-height: 1; border-radius: 0.35em; box-decoration-break: clone; -webkit-box-decoration-break: clone\">\n",
       "    2nd Saturday of September\n",
       "    <span style=\"font-size: 0.8em; font-weight: bold; line-height: 1; border-radius: 0.35em; text-transform: uppercase; vertical-align: middle; margin-left: 0.5rem\">DATE</span>\n",
       "</mark>\n",
       "\"</div>"
      ],
      "text/plain": [
       "<IPython.core.display.HTML object>"
      ]
     },
     "metadata": {},
     "output_type": "display_data"
    }
   ],
   "source": [
    "#Highlighting the Entitites (Rendering)\n",
    "\n",
    "spacy.displacy.render(doc,style='ent',jupyter = True)"
   ]
  },
  {
   "cell_type": "code",
   "execution_count": 36,
   "id": "d6f2c456",
   "metadata": {},
   "outputs": [],
   "source": [
    "# Working on another Example \n",
    "\n",
    "doc2 = nlp(u'Many Electric Scooters were sold in March compared to the sales of December')"
   ]
  },
  {
   "cell_type": "code",
   "execution_count": 37,
   "id": "b091b18b",
   "metadata": {},
   "outputs": [
    {
     "name": "stdout",
     "output_type": "stream",
     "text": [
      "Many PROPN\n",
      "Electric PROPN\n",
      "Scooters PROPN\n",
      "were VERB\n",
      "sold VERB\n",
      "in ADP\n",
      "March PROPN\n",
      "compared VERB\n",
      "to ADP\n",
      "the DET\n",
      "sales NOUN\n",
      "of ADP\n",
      "December PROPN\n"
     ]
    }
   ],
   "source": [
    "#Extracting the text\n",
    "\n",
    "for token in doc2:\n",
    "    print(\n",
    "          token.text,\n",
    "          token.pos_   # Determines the parts of speech of the text\n",
    "         )"
   ]
  },
  {
   "cell_type": "code",
   "execution_count": 38,
   "id": "84318f78",
   "metadata": {},
   "outputs": [
    {
     "data": {
      "text/html": [
       "<div class=\"entities\" style=\"line-height: 2.5\">\n",
       "<mark class=\"entity\" style=\"background: #7aecec; padding: 0.45em 0.6em; margin: 0 0.25em; line-height: 1; border-radius: 0.35em; box-decoration-break: clone; -webkit-box-decoration-break: clone\">\n",
       "    Many Electric Scooters\n",
       "    <span style=\"font-size: 0.8em; font-weight: bold; line-height: 1; border-radius: 0.35em; text-transform: uppercase; vertical-align: middle; margin-left: 0.5rem\">ORG</span>\n",
       "</mark>\n",
       " were sold in \n",
       "<mark class=\"entity\" style=\"background: #bfe1d9; padding: 0.45em 0.6em; margin: 0 0.25em; line-height: 1; border-radius: 0.35em; box-decoration-break: clone; -webkit-box-decoration-break: clone\">\n",
       "    March\n",
       "    <span style=\"font-size: 0.8em; font-weight: bold; line-height: 1; border-radius: 0.35em; text-transform: uppercase; vertical-align: middle; margin-left: 0.5rem\">DATE</span>\n",
       "</mark>\n",
       " compared to the sales of \n",
       "<mark class=\"entity\" style=\"background: #bfe1d9; padding: 0.45em 0.6em; margin: 0 0.25em; line-height: 1; border-radius: 0.35em; box-decoration-break: clone; -webkit-box-decoration-break: clone\">\n",
       "    December\n",
       "    <span style=\"font-size: 0.8em; font-weight: bold; line-height: 1; border-radius: 0.35em; text-transform: uppercase; vertical-align: middle; margin-left: 0.5rem\">DATE</span>\n",
       "</mark>\n",
       "</div>"
      ],
      "text/plain": [
       "<IPython.core.display.HTML object>"
      ]
     },
     "metadata": {},
     "output_type": "display_data"
    }
   ],
   "source": [
    "#Highlighting the Entitites (Rendering)\n",
    "\n",
    "spacy.displacy.render(doc2,style='ent',jupyter = True)"
   ]
  },
  {
   "cell_type": "code",
   "execution_count": null,
   "id": "64cbe3c8",
   "metadata": {},
   "outputs": [],
   "source": []
  }
 ],
 "metadata": {
  "kernelspec": {
   "display_name": "Python 3 (ipykernel)",
   "language": "python",
   "name": "python3"
  },
  "language_info": {
   "codemirror_mode": {
    "name": "ipython",
    "version": 3
   },
   "file_extension": ".py",
   "mimetype": "text/x-python",
   "name": "python",
   "nbconvert_exporter": "python",
   "pygments_lexer": "ipython3",
   "version": "3.7.11"
  }
 },
 "nbformat": 4,
 "nbformat_minor": 5
}
