{
 "cells": [
  {
   "cell_type": "markdown",
   "id": "cdf5a710",
   "metadata": {},
   "source": [
    "# Introduction to Stemming"
   ]
  },
  {
   "cell_type": "markdown",
   "id": "5a8678ae",
   "metadata": {},
   "source": [
    "## Stemming:\n",
    "    \n",
    "### It is a process of deriving a word to its root word.\n",
    "### SnowBallstemmer is more accurate than PorterStemmer."
   ]
  },
  {
   "cell_type": "markdown",
   "id": "f00e2985",
   "metadata": {},
   "source": [
    "### Source link : https://www.geeksforgeeks.org/snowball-stemmer-nlp/"
   ]
  },
  {
   "cell_type": "code",
   "execution_count": 1,
   "id": "16d34a78",
   "metadata": {},
   "outputs": [],
   "source": [
    "import nltk"
   ]
  },
  {
   "cell_type": "code",
   "execution_count": 2,
   "id": "db03b3be",
   "metadata": {},
   "outputs": [],
   "source": [
    "from nltk.stem.porter import PorterStemmer"
   ]
  },
  {
   "cell_type": "code",
   "execution_count": 3,
   "id": "dbdc3615",
   "metadata": {},
   "outputs": [],
   "source": [
    "p_stemmer = PorterStemmer()"
   ]
  },
  {
   "cell_type": "code",
   "execution_count": 7,
   "id": "3e931c9a",
   "metadata": {},
   "outputs": [],
   "source": [
    "words = ['run','runner','ran','runs','easily','fairly','traditional']"
   ]
  },
  {
   "cell_type": "code",
   "execution_count": 8,
   "id": "30e274f5",
   "metadata": {},
   "outputs": [
    {
     "name": "stdout",
     "output_type": "stream",
     "text": [
      "run  run\n",
      "runner  runner\n",
      "ran  ran\n",
      "runs  run\n",
      "easily  easili\n",
      "fairly  fairli\n",
      "traditional  tradit\n"
     ]
    }
   ],
   "source": [
    "for word in words:\n",
    "    print(f\"{word}  {p_stemmer.stem(word)}\")"
   ]
  },
  {
   "cell_type": "code",
   "execution_count": 13,
   "id": "50c6f17b",
   "metadata": {},
   "outputs": [],
   "source": [
    "## Snowball Stemmer\n",
    "from nltk.stem.snowball import SnowballStemmer\n",
    "s_stemmer = SnowballStemmer(language=\"english\")\n",
    "new_words = ['run','runner','ran','runs','easily','fairly','traditional']"
   ]
  },
  {
   "cell_type": "code",
   "execution_count": 14,
   "id": "0f2e4353",
   "metadata": {},
   "outputs": [
    {
     "name": "stdout",
     "output_type": "stream",
     "text": [
      "run  run\n",
      "runner  runner\n",
      "ran  ran\n",
      "runs  run\n",
      "easily  easili\n",
      "fairly  fair\n",
      "traditional  tradit\n"
     ]
    }
   ],
   "source": [
    "for word in new_words:\n",
    "    print(f\"{word}  {s_stemmer.stem(word)}\")"
   ]
  },
  {
   "cell_type": "code",
   "execution_count": null,
   "id": "c898f836",
   "metadata": {},
   "outputs": [],
   "source": []
  }
 ],
 "metadata": {
  "kernelspec": {
   "display_name": "Python 3 (ipykernel)",
   "language": "python",
   "name": "python3"
  },
  "language_info": {
   "codemirror_mode": {
    "name": "ipython",
    "version": 3
   },
   "file_extension": ".py",
   "mimetype": "text/x-python",
   "name": "python",
   "nbconvert_exporter": "python",
   "pygments_lexer": "ipython3",
   "version": "3.7.11"
  }
 },
 "nbformat": 4,
 "nbformat_minor": 5
}
