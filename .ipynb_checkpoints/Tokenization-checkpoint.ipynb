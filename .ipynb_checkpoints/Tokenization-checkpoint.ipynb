{
 "cells": [
  {
   "cell_type": "markdown",
   "id": "e67dfa47",
   "metadata": {},
   "source": [
    "# Tokenization"
   ]
  },
  {
   "cell_type": "markdown",
   "id": "91455f3f",
   "metadata": {},
   "source": [
    "### Tokenization is a process where the text is further broke down in pieces(tokens)\n",
    "### Here, tokens are the pieces of the original part."
   ]
  },
  {
   "cell_type": "code",
   "execution_count": 12,
   "id": "38b81e66",
   "metadata": {},
   "outputs": [],
   "source": [
    "import spacy\n",
    "\n",
    "# This can be downloaded in the environment using ' python -m spacy download en' \n",
    "\n",
    "# en_core_web_lg for larger version \n",
    "\n",
    "nlp = spacy.load('en_core_web_sm') # Load English Core Language of Smaller version"
   ]
  },
  {
   "cell_type": "code",
   "execution_count": 8,
   "id": "a13ecfc1",
   "metadata": {},
   "outputs": [],
   "source": [
    "my_user_string =  '\"We\\'re moving to U.S. on 2nd Saturday of September\"'"
   ]
  },
  {
   "cell_type": "code",
   "execution_count": 9,
   "id": "5c715604",
   "metadata": {},
   "outputs": [
    {
     "data": {
      "text/plain": [
       "'\"We\\'re moving to U.S. on 2nd Saturday of September\"'"
      ]
     },
     "execution_count": 9,
     "metadata": {},
     "output_type": "execute_result"
    }
   ],
   "source": [
    "my_user_string"
   ]
  },
  {
   "cell_type": "code",
   "execution_count": 11,
   "id": "989ddcd7",
   "metadata": {},
   "outputs": [
    {
     "name": "stdout",
     "output_type": "stream",
     "text": [
      "\"\n",
      "We\n",
      "'re\n",
      "moving\n",
      "to\n",
      "U.S.\n",
      "on\n",
      "2nd\n",
      "Saturday\n",
      "of\n",
      "September\n",
      "\"\n"
     ]
    }
   ],
   "source": [
    "doc = nlp(my_user_string)\n",
    "\n",
    "# Detecting the tokens from the text\n",
    "for token in doc:\n",
    "    print(token.text)"
   ]
  },
  {
   "cell_type": "code",
   "execution_count": null,
   "id": "8cfb63b2",
   "metadata": {},
   "outputs": [],
   "source": []
  }
 ],
 "metadata": {
  "kernelspec": {
   "display_name": "Python 3 (ipykernel)",
   "language": "python",
   "name": "python3"
  },
  "language_info": {
   "codemirror_mode": {
    "name": "ipython",
    "version": 3
   },
   "file_extension": ".py",
   "mimetype": "text/x-python",
   "name": "python",
   "nbconvert_exporter": "python",
   "pygments_lexer": "ipython3",
   "version": "3.7.11"
  }
 },
 "nbformat": 4,
 "nbformat_minor": 5
}
